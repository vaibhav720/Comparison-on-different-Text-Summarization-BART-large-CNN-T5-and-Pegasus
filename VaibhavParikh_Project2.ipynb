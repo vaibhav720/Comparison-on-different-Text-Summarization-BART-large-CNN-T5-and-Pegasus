{
  "nbformat": 4,
  "nbformat_minor": 0,
  "metadata": {
    "colab": {
      "provenance": []
    },
    "kernelspec": {
      "name": "python3",
      "display_name": "Python 3"
    },
    "language_info": {
      "name": "python"
    },
    "accelerator": "TPU"
  },
  "cells": [
    {
      "cell_type": "code",
      "source": [
        "pip install rouge transformers"
      ],
      "metadata": {
        "colab": {
          "base_uri": "https://localhost:8080/"
        },
        "id": "oV5r6V-PnukG",
        "outputId": "0967684e-1ca0-4160-81c3-859876c8cd65"
      },
      "execution_count": 1,
      "outputs": [
        {
          "output_type": "stream",
          "name": "stdout",
          "text": [
            "Requirement already satisfied: rouge in /usr/local/lib/python3.10/dist-packages (1.0.1)\n",
            "Requirement already satisfied: transformers in /usr/local/lib/python3.10/dist-packages (4.38.2)\n",
            "Requirement already satisfied: six in /usr/local/lib/python3.10/dist-packages (from rouge) (1.16.0)\n",
            "Requirement already satisfied: filelock in /usr/local/lib/python3.10/dist-packages (from transformers) (3.13.3)\n",
            "Requirement already satisfied: huggingface-hub<1.0,>=0.19.3 in /usr/local/lib/python3.10/dist-packages (from transformers) (0.20.3)\n",
            "Requirement already satisfied: numpy>=1.17 in /usr/local/lib/python3.10/dist-packages (from transformers) (1.25.2)\n",
            "Requirement already satisfied: packaging>=20.0 in /usr/local/lib/python3.10/dist-packages (from transformers) (24.0)\n",
            "Requirement already satisfied: pyyaml>=5.1 in /usr/local/lib/python3.10/dist-packages (from transformers) (6.0.1)\n",
            "Requirement already satisfied: regex!=2019.12.17 in /usr/local/lib/python3.10/dist-packages (from transformers) (2023.12.25)\n",
            "Requirement already satisfied: requests in /usr/local/lib/python3.10/dist-packages (from transformers) (2.31.0)\n",
            "Requirement already satisfied: tokenizers<0.19,>=0.14 in /usr/local/lib/python3.10/dist-packages (from transformers) (0.15.2)\n",
            "Requirement already satisfied: safetensors>=0.4.1 in /usr/local/lib/python3.10/dist-packages (from transformers) (0.4.2)\n",
            "Requirement already satisfied: tqdm>=4.27 in /usr/local/lib/python3.10/dist-packages (from transformers) (4.66.2)\n",
            "Requirement already satisfied: fsspec>=2023.5.0 in /usr/local/lib/python3.10/dist-packages (from huggingface-hub<1.0,>=0.19.3->transformers) (2023.6.0)\n",
            "Requirement already satisfied: typing-extensions>=3.7.4.3 in /usr/local/lib/python3.10/dist-packages (from huggingface-hub<1.0,>=0.19.3->transformers) (4.10.0)\n",
            "Requirement already satisfied: charset-normalizer<4,>=2 in /usr/local/lib/python3.10/dist-packages (from requests->transformers) (3.3.2)\n",
            "Requirement already satisfied: idna<4,>=2.5 in /usr/local/lib/python3.10/dist-packages (from requests->transformers) (3.6)\n",
            "Requirement already satisfied: urllib3<3,>=1.21.1 in /usr/local/lib/python3.10/dist-packages (from requests->transformers) (2.0.7)\n",
            "Requirement already satisfied: certifi>=2017.4.17 in /usr/local/lib/python3.10/dist-packages (from requests->transformers) (2024.2.2)\n"
          ]
        }
      ]
    },
    {
      "cell_type": "code",
      "source": [
        "from transformers import BartTokenizer, BartForConditionalGeneration, T5ForConditionalGeneration, T5Tokenizer, PegasusForConditionalGeneration, PegasusTokenizer\n",
        "from rouge import Rouge"
      ],
      "metadata": {
        "id": "dOlaO8QJm3AI"
      },
      "execution_count": 2,
      "outputs": []
    },
    {
      "cell_type": "markdown",
      "source": [
        "# Declaring the Common data which will be used to compare all agents used\n",
        "###  Data1 is taken from the Entertainment section of the BBC News.\n",
        "### Data2 is taken from the politics section of the BBC News.\n",
        "### Data3 is taken from the Business Section of the BBC News."
      ],
      "metadata": {
        "id": "eK0JOe-ju8DI"
      }
    },
    {
      "cell_type": "code",
      "source": [
        "\n",
        "data1 = \"\"\"\n",
        "Gallery unveils interactive tree\n",
        "\n",
        "A Christmas tree that can receive text messages has been unveiled at London's Tate Britain art gallery.\n",
        "\n",
        "The spruce has an antenna which can receive Bluetooth texts sent by visitors to the Tate. The messages will be \"unwrapped\" by sculptor Richard Wentworth, who is responsible for decorating the tree with broken plates and light bulbs. It is the 17th year that the gallery has invited an artist to dress their Christmas tree. Artists who have decorated the Tate tree in previous years include Tracey Emin in 2002.\n",
        "\n",
        "The plain green Norway spruce is displayed in the gallery's foyer. Its light bulb adornments are dimmed, ordinary domestic ones joined together with string. The plates decorating the branches will be auctioned off for the children's charity ArtWorks. Wentworth worked as an assistant to sculptor Henry Moore in the late 1960s. His reputation as a sculptor grew in the 1980s, while he has been one of the most influential teachers during the last two decades. Wentworth is also known for his photography of mundane, everyday subjects such as a cigarette packet jammed under the wonky leg of a table.\n",
        "\"\"\"\n",
        "\n",
        "original_summary1 = \"\"\"\n",
        "The messages will be \"unwrapped\" by sculptor Richard Wentworth, who is responsible for decorating the tree with broken plates and light bulbs.A Christmas tree that can receive text messages has been unveiled at London's Tate Britain art gallery.It is the 17th year that the gallery has invited an artist to dress their Christmas tree.The spruce has an antenna which can receive Bluetooth texts sent by visitors to the Tate.His reputation as a sculptor grew in the 1980s, while he has been one of the most influential teachers during the last two decades.\n",
        "\"\"\"\n",
        "print(len(data1))\n",
        "print(len(original_summary1))"
      ],
      "metadata": {
        "colab": {
          "base_uri": "https://localhost:8080/"
        },
        "id": "7dYDEdGxo9uj",
        "outputId": "2943dc3d-6542-49f5-cb4a-9aa9de4486a8"
      },
      "execution_count": 3,
      "outputs": [
        {
          "output_type": "stream",
          "name": "stdout",
          "text": [
            "1151\n",
            "556\n"
          ]
        }
      ]
    },
    {
      "cell_type": "code",
      "source": [
        "data2= \"\"\"\n",
        "Talks held on Gibraltar's future\n",
        "\n",
        "Two days of talks on the future of Gibraltar begin at Jack Straw's country residence later on Wednesday.\n",
        "\n",
        "Officials at the two-day summit at the foreign secretary's official Kent house, Chevening, will plan a new forum on the Rock's future. In October, Mr Straw and his Spanish counterpart Miguel Moratinos agreed to establish a body that would give Gibraltarians a voice in their future. Most Gibraltarians said in a referendum they wanted to remain British.\n",
        "\n",
        "Gibraltar's Chief Minister Peter Caruana will represent the British citizens living on the Rock, while Britain's Europe Director Dominick Chilcott will represent the UK. Madrid is being represented by Spain's director general for Europe, Jose Maria Pons. The initiative follows Spain's socialist government's decision to put its long-standing sovereignty ambitions on hold. Gibraltarians rejected plans for the Rock's sovereignty to be shared between Britain and Spain in a referendum organised by Gibraltar government.\n",
        " \"\"\"\n",
        "\n",
        "original_summary2 = \"\"\"\n",
        "Gibraltarians rejected plans for the Rock's sovereignty to be shared between Britain and Spain in a referendum organised by Gibraltar government.Most Gibraltarians said in a referendum they wanted to remain British.In October, Mr Straw and his Spanish counterpart Miguel Moratinos agreed to establish a body that would give Gibraltarians a voice in their future.Officials at the two-day summit at the foreign secretary's official Kent house, Chevening, will plan a new forum on the Rock's future.\n",
        "\"\"\"\n",
        "print(len(data2))\n",
        "print(len(original_summary2))"
      ],
      "metadata": {
        "colab": {
          "base_uri": "https://localhost:8080/"
        },
        "id": "-xrINCKuwUP4",
        "outputId": "fc62ec02-a3f4-46fc-d67e-b8693bf3179a"
      },
      "execution_count": 4,
      "outputs": [
        {
          "output_type": "stream",
          "name": "stdout",
          "text": [
            "1017\n",
            "498\n"
          ]
        }
      ]
    },
    {
      "cell_type": "code",
      "source": [
        "data3= \"\"\"\n",
        "Japan narrowly escapes recession\n",
        "\n",
        "Japan's economy teetered on the brink of a technical recession in the three months to September, figures show.\n",
        "\n",
        "Revised figures indicated growth of just 0.1% - and a similar-sized contraction in the previous quarter. On an annual basis, the data suggests annual growth of just 0.2%, suggesting a much more hesitant recovery than had previously been thought. A common technical definition of a recession is two successive quarters of negative growth.\n",
        "\n",
        "The government was keen to play down the worrying implications of the data. \"I maintain the view that Japan's economy remains in a minor adjustment phase in an upward climb, and we will monitor developments carefully,\" said economy minister Heizo Takenaka. But in the face of the strengthening yen making exports less competitive and indications of weakening economic conditions ahead, observers were less sanguine. \"It's painting a picture of a recovery... much patchier than previously thought,\" said Paul Sheard, economist at Lehman Brothers in Tokyo. Improvements in the job market apparently have yet to feed through to domestic demand, with private consumption up just 0.2% in the third quarter.\n",
        "\n",
        "\n",
        " \"\"\"\n",
        "\n",
        "original_summary3 = \"\"\"\n",
        "On an annual basis, the data suggests annual growth of just 0.2%, suggesting a much more hesitant recovery than had previously been thought.A common technical definition of a recession is two successive quarters of negative growth.Revised figures indicated growth of just 0.1% - and a similar-sized contraction in the previous quarter.Japan's economy teetered on the brink of a technical recession in the three months to September, figures show.\n",
        "\"\"\"\n",
        "print(len(data3))\n",
        "print(len(original_summary3))"
      ],
      "metadata": {
        "colab": {
          "base_uri": "https://localhost:8080/"
        },
        "id": "-KW8Ru2XxiPo",
        "outputId": "58e2037a-c8ca-466d-c03b-6eb8bc0bdf30"
      },
      "execution_count": 5,
      "outputs": [
        {
          "output_type": "stream",
          "name": "stdout",
          "text": [
            "1191\n",
            "447\n"
          ]
        }
      ]
    },
    {
      "cell_type": "code",
      "source": [
        "\n",
        "class Agent1_BartLargeCNN:\n",
        "    def __init__(self, model_name=\"facebook/bart-large-cnn\"):\n",
        "        self.tokenizer = BartTokenizer.from_pretrained(model_name)\n",
        "        self.agent1_model = BartForConditionalGeneration.from_pretrained(model_name)\n",
        "\n",
        "    def summarize_model(self, data):\n",
        "        agent1_input_ids = self.tokenizer.encode(data, return_tensors=\"pt\", max_length=1024, truncation=True)\n",
        "        agent1_summary_ids = self.agent1_model.generate(agent1_input_ids, max_length=570, min_length=30, num_beams=2, early_stopping=True)\n",
        "        agent1_summarized_text = self.tokenizer.decode(agent1_summary_ids[0], skip_special_tokens=True)\n",
        "        return agent1_summarized_text\n",
        "\n",
        "    def calculate_rouge_score(self, predicted, original_summary):\n",
        "        rouge = Rouge()\n",
        "        agent1_scores = rouge.get_scores(predicted, original_summary)\n",
        "\n",
        "        return agent1_scores\n",
        "\n",
        "agent1_bart = Agent1_BartLargeCNN()\n"
      ],
      "metadata": {
        "colab": {
          "base_uri": "https://localhost:8080/"
        },
        "id": "iNoI2JQljQTl",
        "outputId": "014f24ed-3889-49eb-ee04-da44668feac2"
      },
      "execution_count": 6,
      "outputs": [
        {
          "output_type": "stream",
          "name": "stderr",
          "text": [
            "/usr/local/lib/python3.10/dist-packages/huggingface_hub/utils/_token.py:88: UserWarning: \n",
            "The secret `HF_TOKEN` does not exist in your Colab secrets.\n",
            "To authenticate with the Hugging Face Hub, create a token in your settings tab (https://huggingface.co/settings/tokens), set it as secret in your Google Colab and restart your session.\n",
            "You will be able to reuse this secret in all of your notebooks.\n",
            "Please note that authentication is recommended but still optional to access public models or datasets.\n",
            "  warnings.warn(\n"
          ]
        }
      ]
    },
    {
      "cell_type": "code",
      "source": [
        "agent1_predicted_summary1 = agent1_bart.summarize_model(data1)\n",
        "\n",
        "\n",
        "rouge_prediction1 = agent1_bart.calculate_rouge_score(agent1_predicted_summary1, original_summary1)\n",
        "\n",
        "print(\"Original Data\")\n",
        "print(data1)\n",
        "print(\"\\n Original Summary:\")\n",
        "print(original_summary1)\n",
        "print(\"\\n Agent1 Bart Generated Summary:\")\n",
        "print(agent1_predicted_summary1)\n",
        "print(\"\\n Rouge 1 score prediction for the Agent1 Facebook Bart-Large-CNN:\")\n",
        "print(rouge_prediction1)"
      ],
      "metadata": {
        "colab": {
          "base_uri": "https://localhost:8080/"
        },
        "id": "ZW__PRcoqK7O",
        "outputId": "cc867d7c-bf94-4f9b-b188-0a86076375c5"
      },
      "execution_count": 7,
      "outputs": [
        {
          "output_type": "stream",
          "name": "stdout",
          "text": [
            "Original Data\n",
            "\n",
            "Gallery unveils interactive tree\n",
            "\n",
            "A Christmas tree that can receive text messages has been unveiled at London's Tate Britain art gallery.\n",
            "\n",
            "The spruce has an antenna which can receive Bluetooth texts sent by visitors to the Tate. The messages will be \"unwrapped\" by sculptor Richard Wentworth, who is responsible for decorating the tree with broken plates and light bulbs. It is the 17th year that the gallery has invited an artist to dress their Christmas tree. Artists who have decorated the Tate tree in previous years include Tracey Emin in 2002.\n",
            "\n",
            "The plain green Norway spruce is displayed in the gallery's foyer. Its light bulb adornments are dimmed, ordinary domestic ones joined together with string. The plates decorating the branches will be auctioned off for the children's charity ArtWorks. Wentworth worked as an assistant to sculptor Henry Moore in the late 1960s. His reputation as a sculptor grew in the 1980s, while he has been one of the most influential teachers during the last two decades. Wentworth is also known for his photography of mundane, everyday subjects such as a cigarette packet jammed under the wonky leg of a table.\n",
            "\n",
            "\n",
            " Original Summary:\n",
            "\n",
            "The messages will be \"unwrapped\" by sculptor Richard Wentworth, who is responsible for decorating the tree with broken plates and light bulbs.A Christmas tree that can receive text messages has been unveiled at London's Tate Britain art gallery.It is the 17th year that the gallery has invited an artist to dress their Christmas tree.The spruce has an antenna which can receive Bluetooth texts sent by visitors to the Tate.His reputation as a sculptor grew in the 1980s, while he has been one of the most influential teachers during the last two decades.\n",
            "\n",
            "\n",
            " Agent1 Bart Generated Summary:\n",
            "The Norway spruce has an antenna which can receive Bluetooth texts. The messages will be \"unwrapped\" by sculptor Richard Wentworth.\n",
            "\n",
            " Rouge 1 score prediction for the Agent1 Facebook Bart-Large-CNN:\n",
            "[{'rouge-1': {'r': 0.2361111111111111, 'p': 0.8947368421052632, 'f': 0.3736263703224249}, 'rouge-2': {'r': 0.16129032258064516, 'p': 0.7894736842105263, 'f': 0.2678571400398597}, 'rouge-l': {'r': 0.2361111111111111, 'p': 0.8947368421052632, 'f': 0.3736263703224249}}]\n"
          ]
        }
      ]
    },
    {
      "cell_type": "code",
      "source": [
        "agent1_predicted_summary2 = agent1_bart.summarize_model(data2)\n",
        "\n",
        "rouge_prediction2 = agent1_bart.calculate_rouge_score(agent1_predicted_summary2, original_summary2)\n",
        "\n",
        "print(\"Original Data\")\n",
        "print(data2)\n",
        "print(\"\\n Original Summary:\")\n",
        "print(original_summary2)\n",
        "print(\"\\n Agent1 Bart Generated Summary:\")\n",
        "print(agent1_predicted_summary2)\n",
        "print(\"\\n Rouge 2 score prediction for the Agent1 Facebook Bart-Large-CNN:\")\n",
        "print(rouge_prediction2)"
      ],
      "metadata": {
        "colab": {
          "base_uri": "https://localhost:8080/"
        },
        "id": "Tu2-eqcLxTZG",
        "outputId": "0c6b8a89-a2cf-411f-f089-ad427bfadca0"
      },
      "execution_count": 8,
      "outputs": [
        {
          "output_type": "stream",
          "name": "stdout",
          "text": [
            "Original Data\n",
            "\n",
            "Talks held on Gibraltar's future\n",
            "\n",
            "Two days of talks on the future of Gibraltar begin at Jack Straw's country residence later on Wednesday.\n",
            "\n",
            "Officials at the two-day summit at the foreign secretary's official Kent house, Chevening, will plan a new forum on the Rock's future. In October, Mr Straw and his Spanish counterpart Miguel Moratinos agreed to establish a body that would give Gibraltarians a voice in their future. Most Gibraltarians said in a referendum they wanted to remain British.\n",
            "\n",
            "Gibraltar's Chief Minister Peter Caruana will represent the British citizens living on the Rock, while Britain's Europe Director Dominick Chilcott will represent the UK. Madrid is being represented by Spain's director general for Europe, Jose Maria Pons. The initiative follows Spain's socialist government's decision to put its long-standing sovereignty ambitions on hold. Gibraltarians rejected plans for the Rock's sovereignty to be shared between Britain and Spain in a referendum organised by Gibraltar government.\n",
            " \n",
            "\n",
            " Original Summary:\n",
            "\n",
            "Gibraltarians rejected plans for the Rock's sovereignty to be shared between Britain and Spain in a referendum organised by Gibraltar government.Most Gibraltarians said in a referendum they wanted to remain British.In October, Mr Straw and his Spanish counterpart Miguel Moratinos agreed to establish a body that would give Gibraltarians a voice in their future.Officials at the two-day summit at the foreign secretary's official Kent house, Chevening, will plan a new forum on the Rock's future.\n",
            "\n",
            "\n",
            " Agent1 Bart Generated Summary:\n",
            "Talks on Gibraltar's future begin at Jack Straw's country residence. Officials will plan a new forum on the Rock's future. Most Gibraltarians said in a referendum they wanted to remain British.\n",
            "\n",
            " Rouge 2 score prediction for the Agent1 Facebook Bart-Large-CNN:\n",
            "[{'rouge-1': {'r': 0.3442622950819672, 'p': 0.75, 'f': 0.47191010804696387}, 'rouge-2': {'r': 0.24324324324324326, 'p': 0.6, 'f': 0.3461538420488166}, 'rouge-l': {'r': 0.32786885245901637, 'p': 0.7142857142857143, 'f': 0.4494381979346042}}]\n"
          ]
        }
      ]
    },
    {
      "cell_type": "code",
      "source": [
        "agent1_predicted_summary3 = agent1_bart.summarize_model(data3)\n",
        "\n",
        "rouge_prediction3 = agent1_bart.calculate_rouge_score(agent1_predicted_summary3, original_summary3)\n",
        "\n",
        "print(\"Original Data\")\n",
        "print(data3)\n",
        "print(\"\\n Original Summary:\")\n",
        "print(original_summary3)\n",
        "print(\"\\n Agent1 Bart Generated Summary:\")\n",
        "print(agent1_predicted_summary3)\n",
        "print(\"\\n Rouge 3 score prediction for the Agent1 Facebook Bart-Large-CNN:\")\n",
        "print(rouge_prediction3)"
      ],
      "metadata": {
        "colab": {
          "base_uri": "https://localhost:8080/"
        },
        "id": "ofG4gZH_x8sN",
        "outputId": "afcf46e4-4779-4a40-b266-d7a3192ddd51"
      },
      "execution_count": 9,
      "outputs": [
        {
          "output_type": "stream",
          "name": "stdout",
          "text": [
            "Original Data\n",
            "\n",
            "Japan narrowly escapes recession\n",
            "\n",
            "Japan's economy teetered on the brink of a technical recession in the three months to September, figures show.\n",
            "\n",
            "Revised figures indicated growth of just 0.1% - and a similar-sized contraction in the previous quarter. On an annual basis, the data suggests annual growth of just 0.2%, suggesting a much more hesitant recovery than had previously been thought. A common technical definition of a recession is two successive quarters of negative growth.\n",
            "\n",
            "The government was keen to play down the worrying implications of the data. \"I maintain the view that Japan's economy remains in a minor adjustment phase in an upward climb, and we will monitor developments carefully,\" said economy minister Heizo Takenaka. But in the face of the strengthening yen making exports less competitive and indications of weakening economic conditions ahead, observers were less sanguine. \"It's painting a picture of a recovery... much patchier than previously thought,\" said Paul Sheard, economist at Lehman Brothers in Tokyo. Improvements in the job market apparently have yet to feed through to domestic demand, with private consumption up just 0.2% in the third quarter.\n",
            "\n",
            "\n",
            " \n",
            "\n",
            " Original Summary:\n",
            "\n",
            "On an annual basis, the data suggests annual growth of just 0.2%, suggesting a much more hesitant recovery than had previously been thought.A common technical definition of a recession is two successive quarters of negative growth.Revised figures indicated growth of just 0.1% - and a similar-sized contraction in the previous quarter.Japan's economy teetered on the brink of a technical recession in the three months to September, figures show.\n",
            "\n",
            "\n",
            " Agent1 Bart Generated Summary:\n",
            "Japan's economy teetered on the brink of a technical recession in the three months to September, figures show. A common technical definition of a recession is two successive quarters of negative growth.\n",
            "\n",
            " Rouge 3 score prediction for the Agent1 Facebook Bart-Large-CNN:\n",
            "[{'rouge-1': {'r': 0.4727272727272727, 'p': 1.0, 'f': 0.6419753042828837}, 'rouge-2': {'r': 0.4264705882352941, 'p': 0.9666666666666667, 'f': 0.5918367304456477}, 'rouge-l': {'r': 0.4727272727272727, 'p': 1.0, 'f': 0.6419753042828837}}]\n"
          ]
        }
      ]
    },
    {
      "cell_type": "code",
      "source": [
        "class Agent2_T5:\n",
        "    def __init__(self, model_name=\"t5-large\"):\n",
        "        self.tokenizer = T5Tokenizer.from_pretrained(model_name)\n",
        "        self.agent2_model = T5ForConditionalGeneration.from_pretrained(model_name)\n",
        "\n",
        "    def summarize_model(self, text):\n",
        "        max_input_length = 1024\n",
        "        max_output_length = 500\n",
        "\n",
        "        chunks = [text[i:i+max_input_length] for i in range(0, len(text), max_input_length)]\n",
        "        summarized_chunks = []\n",
        "\n",
        "        for chunk in chunks:\n",
        "            agent2_input_ids = self.tokenizer.encode(chunk, return_tensors=\"pt\", max_length=max_input_length, truncation=True)\n",
        "            agent2_summary_ids = self.agent2_model.generate(agent2_input_ids, max_length=max_output_length, min_length=30, do_sample=False)\n",
        "            summarized_chunk = self.tokenizer.decode(agent2_summary_ids[0], skip_special_tokens=True)\n",
        "            summarized_chunks.append(summarized_chunk)\n",
        "\n",
        "        return \" \".join(summarized_chunks)\n",
        "\n",
        "    def evaluate_rouge_score(self, predicted, original_summary):\n",
        "        rouge = Rouge()\n",
        "        rouge_scores = rouge.get_scores(predicted, original_summary)\n",
        "        return rouge_scores\n",
        "\n",
        "agent2_t5 = Agent2_T5()\n"
      ],
      "metadata": {
        "colab": {
          "base_uri": "https://localhost:8080/"
        },
        "id": "H4jyCCdDoRmp",
        "outputId": "e5b24cd0-cb29-47d7-cbe5-3cceae44230e"
      },
      "execution_count": 10,
      "outputs": [
        {
          "output_type": "stream",
          "name": "stderr",
          "text": [
            "You are using the default legacy behaviour of the <class 'transformers.models.t5.tokenization_t5.T5Tokenizer'>. This is expected, and simply means that the `legacy` (previous) behavior will be used so nothing changes for you. If you want to use the new behaviour, set `legacy=False`. This should only be set if you understand what it means, and thoroughly read the reason why this was added as explained in https://github.com/huggingface/transformers/pull/24565\n",
            "Special tokens have been added in the vocabulary, make sure the associated word embeddings are fine-tuned or trained.\n"
          ]
        }
      ]
    },
    {
      "cell_type": "code",
      "source": [
        "agent2_predicted_summary1 = agent2_t5.summarize_model(data1)\n",
        "\n",
        "rouge_prediction1 = agent2_t5.evaluate_rouge_score(agent2_predicted_summary1, original_summary1)\n",
        "\n",
        "print(\"Original Data\")\n",
        "print(data1)\n",
        "print(\"\\n Original Summary:\")\n",
        "print(original_summary1)\n",
        "print(\"\\n Agent2 T5 Generated Summary:\")\n",
        "print(agent2_predicted_summary1)\n",
        "print(\"\\n Rouge 1 score prediction for the Agent2 T5 Model:\")\n",
        "print(rouge_prediction1)"
      ],
      "metadata": {
        "colab": {
          "base_uri": "https://localhost:8080/"
        },
        "id": "tFednK5VHpya",
        "outputId": "578c2f1b-dd44-4126-91af-455a016c8f24"
      },
      "execution_count": 11,
      "outputs": [
        {
          "output_type": "stream",
          "name": "stdout",
          "text": [
            "Original Data\n",
            "\n",
            "Gallery unveils interactive tree\n",
            "\n",
            "A Christmas tree that can receive text messages has been unveiled at London's Tate Britain art gallery.\n",
            "\n",
            "The spruce has an antenna which can receive Bluetooth texts sent by visitors to the Tate. The messages will be \"unwrapped\" by sculptor Richard Wentworth, who is responsible for decorating the tree with broken plates and light bulbs. It is the 17th year that the gallery has invited an artist to dress their Christmas tree. Artists who have decorated the Tate tree in previous years include Tracey Emin in 2002.\n",
            "\n",
            "The plain green Norway spruce is displayed in the gallery's foyer. Its light bulb adornments are dimmed, ordinary domestic ones joined together with string. The plates decorating the branches will be auctioned off for the children's charity ArtWorks. Wentworth worked as an assistant to sculptor Henry Moore in the late 1960s. His reputation as a sculptor grew in the 1980s, while he has been one of the most influential teachers during the last two decades. Wentworth is also known for his photography of mundane, everyday subjects such as a cigarette packet jammed under the wonky leg of a table.\n",
            "\n",
            "\n",
            " Original Summary:\n",
            "\n",
            "The messages will be \"unwrapped\" by sculptor Richard Wentworth, who is responsible for decorating the tree with broken plates and light bulbs.A Christmas tree that can receive text messages has been unveiled at London's Tate Britain art gallery.It is the 17th year that the gallery has invited an artist to dress their Christmas tree.The spruce has an antenna which can receive Bluetooth texts sent by visitors to the Tate.His reputation as a sculptor grew in the 1980s, while he has been one of the most influential teachers during the last two decades.\n",
            "\n",
            "\n",
            " Agent2 T5 Generated Summary:\n",
            "and a member of the Royal Academy of Arts. a member of the Royal Academy of Arts. a member of the Royal Academy of Arts. Tate Britain art gallery unveils interactive tree Tate Britain art gallery unveils interactive tree Tate Britain art gallery unveils interactive tree Tate Britain art gallery unveils interactive tree Tate Britain art gallery unveils interactive tree The interactive tree at the Tate Britain art gallery has an antenna which can receive Bluetooth texts sent by visitors to the Tate. The Norway spruce his portraits of people and animals. He is a discarded cigarette packet or a cigarette wrapped around a cigarette... He is also known for his photography of everyday subjects such as a cigarette packet jammed under a wonky leg. He is for his for his for his his for of........... for for mundane\n",
            "\n",
            " Rouge 1 score prediction for the Agent2 T5 Model:\n",
            "[{'rouge-1': {'r': 0.375, 'p': 0.48214285714285715, 'f': 0.421874995078125}, 'rouge-2': {'r': 0.21505376344086022, 'p': 0.24691358024691357, 'f': 0.22988505249504568}, 'rouge-l': {'r': 0.375, 'p': 0.48214285714285715, 'f': 0.421874995078125}}]\n"
          ]
        }
      ]
    },
    {
      "cell_type": "code",
      "source": [
        "agent2_predicted_summary2 = agent2_t5.summarize_model(data2)\n",
        "\n",
        "rouge_prediction2 = agent2_t5.evaluate_rouge_score(agent2_predicted_summary2, original_summary2)\n",
        "\n",
        "print(\"Original Data\")\n",
        "print(data2)\n",
        "print(\"\\n Original Summary:\")\n",
        "print(original_summary2)\n",
        "print(\"\\n Agent2 T5 Generated Summary:\")\n",
        "print(agent2_predicted_summary2)\n",
        "print(\"\\n Rouge 2 score prediction for the Agent2 T5 Model:\")\n",
        "print(rouge_prediction2)"
      ],
      "metadata": {
        "colab": {
          "base_uri": "https://localhost:8080/"
        },
        "id": "R_Cy3HOhHqB4",
        "outputId": "96d2b583-3331-4930-c683-76ac82d9f213"
      },
      "execution_count": 12,
      "outputs": [
        {
          "output_type": "stream",
          "name": "stdout",
          "text": [
            "Original Data\n",
            "\n",
            "Talks held on Gibraltar's future\n",
            "\n",
            "Two days of talks on the future of Gibraltar begin at Jack Straw's country residence later on Wednesday.\n",
            "\n",
            "Officials at the two-day summit at the foreign secretary's official Kent house, Chevening, will plan a new forum on the Rock's future. In October, Mr Straw and his Spanish counterpart Miguel Moratinos agreed to establish a body that would give Gibraltarians a voice in their future. Most Gibraltarians said in a referendum they wanted to remain British.\n",
            "\n",
            "Gibraltar's Chief Minister Peter Caruana will represent the British citizens living on the Rock, while Britain's Europe Director Dominick Chilcott will represent the UK. Madrid is being represented by Spain's director general for Europe, Jose Maria Pons. The initiative follows Spain's socialist government's decision to put its long-standing sovereignty ambitions on hold. Gibraltarians rejected plans for the Rock's sovereignty to be shared between Britain and Spain in a referendum organised by Gibraltar government.\n",
            " \n",
            "\n",
            " Original Summary:\n",
            "\n",
            "Gibraltarians rejected plans for the Rock's sovereignty to be shared between Britain and Spain in a referendum organised by Gibraltar government.Most Gibraltarians said in a referendum they wanted to remain British.In October, Mr Straw and his Spanish counterpart Miguel Moratinos agreed to establish a body that would give Gibraltarians a voice in their future.Officials at the two-day summit at the foreign secretary's official Kent house, Chevening, will plan a new forum on the Rock's future.\n",
            "\n",
            "\n",
            " Agent2 T5 Generated Summary:\n",
            "'s in October. Most Gibraltarians said in a referendum they wanted to remain British.. Talks held on Gibraltar's future Two days of talks on Gibraltar's future at Jack Straw's country residence Chevening on Gibraltar's future - at Foreign Secretary. the the foreign secretary's official Kent house official Spanish begin at and. and..\n",
            "\n",
            " Rouge 2 score prediction for the Agent2 T5 Model:\n",
            "[{'rouge-1': {'r': 0.3442622950819672, 'p': 0.525, 'f': 0.4158415793745711}, 'rouge-2': {'r': 0.1891891891891892, 'p': 0.2978723404255319, 'f': 0.23140495392664445}, 'rouge-l': {'r': 0.3442622950819672, 'p': 0.525, 'f': 0.4158415793745711}}]\n"
          ]
        }
      ]
    },
    {
      "cell_type": "code",
      "source": [
        "agent2_predicted_summary3 = agent2_t5.summarize_model(data3)\n",
        "\n",
        "rouge_prediction3 = agent2_t5.evaluate_rouge_score(agent2_predicted_summary3, original_summary3)\n",
        "\n",
        "print(\"Original Data\")\n",
        "print(data3)\n",
        "print(\"\\n Original Summary:\")\n",
        "print(original_summary3)\n",
        "print(\"\\n Agent2 T5 Generated Summary:\")\n",
        "print(agent2_predicted_summary3)\n",
        "print(\"\\n Rouge 3 score prediction for the Agent2 T5 Model:\")\n",
        "print(rouge_prediction3)"
      ],
      "metadata": {
        "colab": {
          "base_uri": "https://localhost:8080/"
        },
        "id": "7xhfA1IkHqQ0",
        "outputId": "8b6d90ec-d4ce-4ff2-a9c2-d7033a775a74"
      },
      "execution_count": 13,
      "outputs": [
        {
          "output_type": "stream",
          "name": "stdout",
          "text": [
            "Original Data\n",
            "\n",
            "Japan narrowly escapes recession\n",
            "\n",
            "Japan's economy teetered on the brink of a technical recession in the three months to September, figures show.\n",
            "\n",
            "Revised figures indicated growth of just 0.1% - and a similar-sized contraction in the previous quarter. On an annual basis, the data suggests annual growth of just 0.2%, suggesting a much more hesitant recovery than had previously been thought. A common technical definition of a recession is two successive quarters of negative growth.\n",
            "\n",
            "The government was keen to play down the worrying implications of the data. \"I maintain the view that Japan's economy remains in a minor adjustment phase in an upward climb, and we will monitor developments carefully,\" said economy minister Heizo Takenaka. But in the face of the strengthening yen making exports less competitive and indications of weakening economic conditions ahead, observers were less sanguine. \"It's painting a picture of a recovery... much patchier than previously thought,\" said Paul Sheard, economist at Lehman Brothers in Tokyo. Improvements in the job market apparently have yet to feed through to domestic demand, with private consumption up just 0.2% in the third quarter.\n",
            "\n",
            "\n",
            " \n",
            "\n",
            " Original Summary:\n",
            "\n",
            "On an annual basis, the data suggests annual growth of just 0.2%, suggesting a much more hesitant recovery than had previously been thought.A common technical definition of a recession is two successive quarters of negative growth.Revised figures indicated growth of just 0.1% - and a similar-sized contraction in the previous quarter.Japan's economy teetered on the brink of a technical recession in the three months to September, figures show.\n",
            "\n",
            "\n",
            " Agent2 T5 Generated Summary:\n",
            ",uckhauser. \"It's painting a picture of a recovery... much patchier than previously thought,\" said Sheard. \"It's painting a picture of a recovery... much patchier than previously thought.\" \"It's painting a picture of a recovery... much patchier than previously thought,\" said Sheard. \"It's painting .. The figures were released by the Ministry of Finance. The figures were released by the Ministry of Finance. The Tokyo Stock Exchange is one of the largest in Japan. Its shares are traded on the Tokyo Stock Exchange. The Tokyo Stock Exchange is one of the largest in Japan. Tokyo........................ The\n",
            "\n",
            " Rouge 3 score prediction for the Agent2 T5 Model:\n",
            "[{'rouge-1': {'r': 0.21818181818181817, 'p': 0.32432432432432434, 'f': 0.2608695604087903}, 'rouge-2': {'r': 0.029411764705882353, 'p': 0.041666666666666664, 'f': 0.03448275376932292}, 'rouge-l': {'r': 0.2, 'p': 0.2972972972972973, 'f': 0.23913042997400766}}]\n"
          ]
        }
      ]
    },
    {
      "cell_type": "code",
      "source": [
        "class Agent3_Pegasus_large:\n",
        "    def __init__(self, model_name=\"google/pegasus-large\"):\n",
        "        self.tokenizer = PegasusTokenizer.from_pretrained(model_name)\n",
        "        self.model = PegasusForConditionalGeneration.from_pretrained(model_name)\n",
        "\n",
        "    def summarize_text(self, text):\n",
        "        input_ids = self.tokenizer.encode(text, return_tensors=\"pt\", max_length=1024, truncation=True)\n",
        "        summary_ids = self.model.generate(input_ids, max_length=150, min_length=30, num_beams=2, early_stopping=True)\n",
        "        summarized_text = self.tokenizer.decode(summary_ids[0], skip_special_tokens=True)\n",
        "        return summarized_text\n",
        "\n",
        "    def calculate_rouge_score(self, predicted, original_summary):\n",
        "        rouge = Rouge()\n",
        "        agent1_scores = rouge.get_scores(predicted, original_summary)\n",
        "        return agent1_scores\n",
        "\n",
        "agent3_pegasus_large = Agent3_Pegasus_large()\n"
      ],
      "metadata": {
        "colab": {
          "base_uri": "https://localhost:8080/"
        },
        "id": "s4ATbXlzo1Jk",
        "outputId": "2c869299-b2d4-4e87-9193-026f0d772f19"
      },
      "execution_count": 14,
      "outputs": [
        {
          "output_type": "stream",
          "name": "stderr",
          "text": [
            "Some weights of PegasusForConditionalGeneration were not initialized from the model checkpoint at google/pegasus-large and are newly initialized: ['model.decoder.embed_positions.weight', 'model.encoder.embed_positions.weight']\n",
            "You should probably TRAIN this model on a down-stream task to be able to use it for predictions and inference.\n"
          ]
        }
      ]
    },
    {
      "cell_type": "code",
      "source": [
        "agent3_predicted_summary1 = agent3_pegasus_large.summarize_text(data1)\n",
        "\n",
        "rouge_prediction1 = agent3_pegasus_large.calculate_rouge_score(agent3_predicted_summary1, original_summary1)\n",
        "\n",
        "print(\"Original Data\")\n",
        "print(data1)\n",
        "print(\"\\n Original Summary:\")\n",
        "print(original_summary1)\n",
        "print(\"\\n Agent3 Pegasus Generated Summary:\")\n",
        "print(agent3_predicted_summary1)\n",
        "print(\"\\n Rouge 1 score prediction for the Agent3 Pegasus:\")\n",
        "print(rouge_prediction1)"
      ],
      "metadata": {
        "colab": {
          "base_uri": "https://localhost:8080/"
        },
        "id": "wK8aBTdsOOsa",
        "outputId": "d666098f-42c2-4775-b5cb-fd3f2e9d3f26"
      },
      "execution_count": 15,
      "outputs": [
        {
          "output_type": "stream",
          "name": "stdout",
          "text": [
            "Original Data\n",
            "\n",
            "Gallery unveils interactive tree\n",
            "\n",
            "A Christmas tree that can receive text messages has been unveiled at London's Tate Britain art gallery.\n",
            "\n",
            "The spruce has an antenna which can receive Bluetooth texts sent by visitors to the Tate. The messages will be \"unwrapped\" by sculptor Richard Wentworth, who is responsible for decorating the tree with broken plates and light bulbs. It is the 17th year that the gallery has invited an artist to dress their Christmas tree. Artists who have decorated the Tate tree in previous years include Tracey Emin in 2002.\n",
            "\n",
            "The plain green Norway spruce is displayed in the gallery's foyer. Its light bulb adornments are dimmed, ordinary domestic ones joined together with string. The plates decorating the branches will be auctioned off for the children's charity ArtWorks. Wentworth worked as an assistant to sculptor Henry Moore in the late 1960s. His reputation as a sculptor grew in the 1980s, while he has been one of the most influential teachers during the last two decades. Wentworth is also known for his photography of mundane, everyday subjects such as a cigarette packet jammed under the wonky leg of a table.\n",
            "\n",
            "\n",
            " Original Summary:\n",
            "\n",
            "The messages will be \"unwrapped\" by sculptor Richard Wentworth, who is responsible for decorating the tree with broken plates and light bulbs.A Christmas tree that can receive text messages has been unveiled at London's Tate Britain art gallery.It is the 17th year that the gallery has invited an artist to dress their Christmas tree.The spruce has an antenna which can receive Bluetooth texts sent by visitors to the Tate.His reputation as a sculptor grew in the 1980s, while he has been one of the most influential teachers during the last two decades.\n",
            "\n",
            "\n",
            " Agent3 Pegasus Generated Summary:\n",
            "Gallery unveils interactive tree A Christmas tree that can receive text messages has been unveiled at London's Tate Britain art gallery. The messages will be \"unwrapped\" by sculptor Richard Wentworth, who is responsible for decorating the tree with broken plates and light bulbs.\n",
            "\n",
            " Rouge 1 score prediction for the Agent3 Pegasus:\n",
            "[{'rouge-1': {'r': 0.5138888888888888, 'p': 0.925, 'f': 0.660714281122449}, 'rouge-2': {'r': 0.3978494623655914, 'p': 0.8809523809523809, 'f': 0.5481481438617284}, 'rouge-l': {'r': 0.5138888888888888, 'p': 0.925, 'f': 0.660714281122449}}]\n"
          ]
        }
      ]
    },
    {
      "cell_type": "code",
      "source": [
        "agent3_predicted_summary2 = agent3_pegasus_large.summarize_text(data2)\n",
        "\n",
        "rouge_prediction2 = agent3_pegasus_large.calculate_rouge_score(agent3_predicted_summary2, original_summary2)\n",
        "\n",
        "print(\"Original Data\")\n",
        "print(data2)\n",
        "print(\"\\n Original Summary:\")\n",
        "print(original_summary2)\n",
        "print(\"\\n Agent3 Pegasus Generated Summary:\")\n",
        "print(agent3_predicted_summary2)\n",
        "print(\"\\n Rouge 2 score prediction for the Agent3 Pegasus:\")\n",
        "print(rouge_prediction2)"
      ],
      "metadata": {
        "colab": {
          "base_uri": "https://localhost:8080/"
        },
        "id": "wqmfCXliOOze",
        "outputId": "0a399c6a-55d7-45dc-89ca-cbc1df7d3f45"
      },
      "execution_count": 16,
      "outputs": [
        {
          "output_type": "stream",
          "name": "stdout",
          "text": [
            "Original Data\n",
            "\n",
            "Talks held on Gibraltar's future\n",
            "\n",
            "Two days of talks on the future of Gibraltar begin at Jack Straw's country residence later on Wednesday.\n",
            "\n",
            "Officials at the two-day summit at the foreign secretary's official Kent house, Chevening, will plan a new forum on the Rock's future. In October, Mr Straw and his Spanish counterpart Miguel Moratinos agreed to establish a body that would give Gibraltarians a voice in their future. Most Gibraltarians said in a referendum they wanted to remain British.\n",
            "\n",
            "Gibraltar's Chief Minister Peter Caruana will represent the British citizens living on the Rock, while Britain's Europe Director Dominick Chilcott will represent the UK. Madrid is being represented by Spain's director general for Europe, Jose Maria Pons. The initiative follows Spain's socialist government's decision to put its long-standing sovereignty ambitions on hold. Gibraltarians rejected plans for the Rock's sovereignty to be shared between Britain and Spain in a referendum organised by Gibraltar government.\n",
            " \n",
            "\n",
            " Original Summary:\n",
            "\n",
            "Gibraltarians rejected plans for the Rock's sovereignty to be shared between Britain and Spain in a referendum organised by Gibraltar government.Most Gibraltarians said in a referendum they wanted to remain British.In October, Mr Straw and his Spanish counterpart Miguel Moratinos agreed to establish a body that would give Gibraltarians a voice in their future.Officials at the two-day summit at the foreign secretary's official Kent house, Chevening, will plan a new forum on the Rock's future.\n",
            "\n",
            "\n",
            " Agent3 Pegasus Generated Summary:\n",
            "Gibraltar's Chief Minister Peter Caruana will represent the British citizens living on the Rock, while Britain's Europe Director Dominick Chilcott will represent the UK. Gibraltarians rejected plans for the Rock's sovereignty to be shared between Britain and Spain in a referendum organised by Gibraltar government.\n",
            "\n",
            " Rouge 2 score prediction for the Agent3 Pegasus:\n",
            "[{'rouge-1': {'r': 0.39344262295081966, 'p': 0.6, 'f': 0.4752475199686305}, 'rouge-2': {'r': 0.28378378378378377, 'p': 0.5, 'f': 0.3620689608977408}, 'rouge-l': {'r': 0.3770491803278688, 'p': 0.575, 'f': 0.4554455397706107}}]\n"
          ]
        }
      ]
    },
    {
      "cell_type": "code",
      "source": [
        "agent3_predicted_summary3 = agent3_pegasus_large.summarize_text(data3)\n",
        "\n",
        "rouge_prediction3 = agent3_pegasus_large.calculate_rouge_score(agent3_predicted_summary3, original_summary3)\n",
        "\n",
        "print(\"Original Data\")\n",
        "print(data3)\n",
        "print(\"\\n Original Summary:\")\n",
        "print(agent3_predicted_summary3)\n",
        "print(\"\\n Agent3 Pegasus Generated Summary:\")\n",
        "print(agent1_predicted_summary3)\n",
        "print(\"\\n Rouge 3 score prediction for the Agent3 Pegasus:\")\n",
        "print(rouge_prediction3)"
      ],
      "metadata": {
        "colab": {
          "base_uri": "https://localhost:8080/"
        },
        "id": "aBuQnfEBOO5G",
        "outputId": "d4549176-7b7f-4309-b396-02627cb1a21c"
      },
      "execution_count": 17,
      "outputs": [
        {
          "output_type": "stream",
          "name": "stdout",
          "text": [
            "Original Data\n",
            "\n",
            "Japan narrowly escapes recession\n",
            "\n",
            "Japan's economy teetered on the brink of a technical recession in the three months to September, figures show.\n",
            "\n",
            "Revised figures indicated growth of just 0.1% - and a similar-sized contraction in the previous quarter. On an annual basis, the data suggests annual growth of just 0.2%, suggesting a much more hesitant recovery than had previously been thought. A common technical definition of a recession is two successive quarters of negative growth.\n",
            "\n",
            "The government was keen to play down the worrying implications of the data. \"I maintain the view that Japan's economy remains in a minor adjustment phase in an upward climb, and we will monitor developments carefully,\" said economy minister Heizo Takenaka. But in the face of the strengthening yen making exports less competitive and indications of weakening economic conditions ahead, observers were less sanguine. \"It's painting a picture of a recovery... much patchier than previously thought,\" said Paul Sheard, economist at Lehman Brothers in Tokyo. Improvements in the job market apparently have yet to feed through to domestic demand, with private consumption up just 0.2% in the third quarter.\n",
            "\n",
            "\n",
            " \n",
            "\n",
            " Original Summary:\n",
            "Japan narrowly escapes recession Japan's economy teetered on the brink of a technical recession in the three months to September, figures show. On an annual basis, the data suggests annual growth of just 0.2%, suggesting a much more hesitant recovery than had previously been thought.\n",
            "\n",
            " Agent3 Pegasus Generated Summary:\n",
            "Japan's economy teetered on the brink of a technical recession in the three months to September, figures show. A common technical definition of a recession is two successive quarters of negative growth.\n",
            "\n",
            " Rouge 3 score prediction for the Agent3 Pegasus:\n",
            "[{'rouge-1': {'r': 0.6727272727272727, 'p': 0.925, 'f': 0.7789473635457065}, 'rouge-2': {'r': 0.5882352941176471, 'p': 0.8888888888888888, 'f': 0.7079645969770538}, 'rouge-l': {'r': 0.6727272727272727, 'p': 0.925, 'f': 0.7789473635457065}}]\n"
          ]
        }
      ]
    },
    {
      "cell_type": "markdown",
      "source": [
        "## References\n",
        "### 1) https://huggingface.co/facebook/bart-large-cnn\n",
        "### 2) https://huggingface.co/google-t5/t5-large\n",
        "### 3) https://huggingface.co/google/pegasus-large\n",
        "### 4) https://www.kaggle.com/datasets/pariza/bbc-news-summary"
      ],
      "metadata": {
        "id": "hLZRzP3kMH8W"
      }
    }
  ]
}